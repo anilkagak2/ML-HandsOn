{
 "cells": [
  {
   "cell_type": "code",
   "execution_count": 1,
   "metadata": {},
   "outputs": [],
   "source": [
    "# Load all python libraries upfront\n",
    "import numpy as np\n",
    "from sklearn.feature_extraction.text import TfidfVectorizer\n",
    "from sklearn.model_selection import train_test_split\n",
    "from sklearn.ensemble import RandomForestClassifier\n",
    "from sklearn.linear_model import LogisticRegression\n",
    "\n",
    "import pickle\n",
    "import sys"
   ]
  },
  {
   "cell_type": "code",
   "execution_count": 2,
   "metadata": {},
   "outputs": [],
   "source": [
    "# Sentiment analysis on the IMDB movie dataset (https://www.kaggle.com/c/word2vec-nlp-tutorial/data)\n",
    "# Below is the path to the downloaded labelled file\n",
    "data_path = '/home/anilkag/data/imdb-movie-dataset/labeledTrainData.tsv'"
   ]
  },
  {
   "cell_type": "markdown",
   "metadata": {},
   "source": [
    "### Read the data"
   ]
  },
  {
   "cell_type": "code",
   "execution_count": 3,
   "metadata": {},
   "outputs": [],
   "source": [
    "def read_data(filename, SEPARATOR = '\\t'):\n",
    "    data_X = []\n",
    "    data_y = []\n",
    "    with open(filename) as fp:\n",
    "        # Skip the header line (id \\t sentiment \\t review)\n",
    "        fp.readline() \n",
    "\n",
    "        for line in fp:\n",
    "            tokens = line.split(SEPARATOR)\n",
    "            data_X.append( tokens[2] )\n",
    "            data_y.append( int(tokens[1]) )\n",
    "    return data_X, data_y\n",
    "\n",
    "data_X, data_y = read_data(data_path)"
   ]
  },
  {
   "cell_type": "markdown",
   "metadata": {},
   "source": [
    "### Review example"
   ]
  },
  {
   "cell_type": "code",
   "execution_count": 4,
   "metadata": {},
   "outputs": [
    {
     "name": "stdout",
     "output_type": "stream",
     "text": [
      "1\n",
      "\"With all this stuff going down at the moment with MJ i've started listening to his music, watching the odd documentary here and there, watched The Wiz and watched Moonwalker again. Maybe i just want to get a certain insight into this guy who i thought was really cool in the eighties just to maybe make up my mind whether he is guilty or innocent. Moonwalker is part biography, part feature film which i remember going to see at the cinema when it was originally released. Some of it has subtle messages about MJ's feeling towards the press and also the obvious message of drugs are bad m'kay.<br /><br />Visually impressive but of course this is all about Michael Jackson so unless you remotely like MJ in anyway then you are going to hate this and find it boring. Some may call MJ an egotist for consenting to the making of this movie BUT MJ and most of his fans would say that he made it for the fans which if true is really nice of him.<br /><br />The actual feature film bit when it finally starts is only on for 20 minutes or so excluding the Smooth Criminal sequence and Joe Pesci is convincing as a psychopathic all powerful drug lord. Why he wants MJ dead so bad is beyond me. Because MJ overheard his plans? Nah, Joe Pesci's character ranted that he wanted people to know it is he who is supplying drugs etc so i dunno, maybe he just hates MJ's music.<br /><br />Lots of cool things in this like MJ turning into a car and a robot and the whole Speed Demon sequence. Also, the director must have had the patience of a saint when it came to filming the kiddy Bad sequence as usually directors hate working with one kid let alone a whole bunch of them performing a complex dance scene.<br /><br />Bottom line, this movie is for people who like MJ on one level or another (which i think is most people). If not, then stay away. It does try and give off a wholesome message and ironically MJ's bestest buddy in this movie is a girl! Michael Jackson is truly one of the most talented people ever to grace this planet but is he guilty? Well, with all the attention i've gave this subject....hmmm well i don't know because people can be different behind closed doors, i know this for a fact. He is either an extremely nice but stupid guy or one of the most sickest liars. I hope he is not the latter.\"\n",
      "\n"
     ]
    }
   ],
   "source": [
    "idx=0\n",
    "print(data_y[idx])\n",
    "print(data_X[idx])"
   ]
  },
  {
   "cell_type": "markdown",
   "metadata": {},
   "source": [
    "### Split data into train/valid/test and preprocess"
   ]
  },
  {
   "cell_type": "code",
   "execution_count": 5,
   "metadata": {},
   "outputs": [
    {
     "name": "stdout",
     "output_type": "stream",
     "text": [
      "# of train points =  25000\n",
      "train  X.shape =  (18750, 66639)\n",
      "train  y.shape =  (18750,)\n",
      "valid  X.shape =  (3125, 66639)\n",
      "valid  y.shape =  (3125,)\n",
      "test  X.shape =  (3125, 66639)\n",
      "test  y.shape =  (3125,)\n"
     ]
    }
   ],
   "source": [
    "# Split into train/validation/test\n",
    "print('# of train points = ', len(data_X))\n",
    "y = np.array(data_y)\n",
    "X_train, X_test, y_train, y_test = train_test_split(data_X, y, test_size=0.25, random_state=42)\n",
    "X_valid, X_test, y_valid, y_test = train_test_split(X_test, y_test, test_size=0.5, random_state=42)\n",
    "\n",
    "# Preprocess using sklearn utilities\n",
    "vectorizer = TfidfVectorizer()\n",
    "def preprocess_data(data, train_data=False):\n",
    "    if train_data:\n",
    "        X = vectorizer.fit_transform(data)\n",
    "    else:\n",
    "        X = vectorizer.transform(data)\n",
    "    return X\n",
    "    \n",
    "X_train = preprocess_data(X_train, train_data=True)\n",
    "X_valid = preprocess_data(X_valid)\n",
    "X_test  = preprocess_data(X_test)\n",
    "\n",
    "data_splits = [(X_train, y_train), (X_valid, y_valid), (X_test, y_test)]\n",
    "data_splits_name = ['train', 'valid', 'test']\n",
    "for i in range(len(data_splits)):\n",
    "    _x, _y = data_splits[i]\n",
    "    _name  = data_splits_name[i]\n",
    "    print(_name, ' X.shape = ', _x.shape)\n",
    "    print(_name, ' y.shape = ', _y.shape)"
   ]
  },
  {
   "cell_type": "code",
   "execution_count": 6,
   "metadata": {},
   "outputs": [],
   "source": [
    "# Train a classifier (note that this should to switch to something more fancier)\n",
    "#clf = RandomForestClassifier(n_estimators = 100)\n",
    "clf = LogisticRegression()\n",
    "clf = clf.fit( X_train, y_train )"
   ]
  },
  {
   "cell_type": "code",
   "execution_count": 7,
   "metadata": {},
   "outputs": [
    {
     "name": "stdout",
     "output_type": "stream",
     "text": [
      "Evaluation..\n",
      "Accuracy =  88.96\n",
      "Model size =  521.490234375  KB\n"
     ]
    }
   ],
   "source": [
    "# Write utility to compute all the performance metrics\n",
    "# Evaluate the basic classifier on test data\n",
    "def compute_performance_metrics(clf, X, y):\n",
    "    accuracy = clf.score(X, y)\n",
    "    \n",
    "    p = pickle.dumps(clf)\n",
    "    model_size = sys.getsizeof(p)\n",
    "    \n",
    "    print('Evaluation..')\n",
    "    print('Accuracy = ', 100*accuracy)\n",
    "    print('Model size = ', model_size/1024, ' KB' )\n",
    "    \n",
    "compute_performance_metrics(clf, X_test, y_test)"
   ]
  },
  {
   "cell_type": "code",
   "execution_count": 8,
   "metadata": {},
   "outputs": [],
   "source": [
    "# Tune hyper-parameters on the validation data and then evaluate on test data"
   ]
  },
  {
   "cell_type": "code",
   "execution_count": 9,
   "metadata": {},
   "outputs": [],
   "source": [
    "# Bonus tip : Sparsification of the classifier?"
   ]
  },
  {
   "cell_type": "code",
   "execution_count": null,
   "metadata": {},
   "outputs": [],
   "source": [
    "# Tips : \n",
    "# 1) Do not preprocess all the data before splitting into train/valid/test --> your stats should come from the training data\n",
    "# 2) Use the test data only for evaluation --> NOT EVEN FOR HYPER-PARAMs TUNING\n",
    "# 3) Start with simple classifiers before moving on the complex function classes --> Keep it simple stupid = KISS\n",
    "# 4) Normalize the data (sample procedure applied to train/valid/test) :\n",
    "#    - helps training algorithms and achieves better test performance"
   ]
  },
  {
   "cell_type": "code",
   "execution_count": null,
   "metadata": {},
   "outputs": [],
   "source": []
  }
 ],
 "metadata": {
  "kernelspec": {
   "display_name": "Python 3",
   "language": "python",
   "name": "python3"
  },
  "language_info": {
   "codemirror_mode": {
    "name": "ipython",
    "version": 3
   },
   "file_extension": ".py",
   "mimetype": "text/x-python",
   "name": "python",
   "nbconvert_exporter": "python",
   "pygments_lexer": "ipython3",
   "version": "3.7.7"
  }
 },
 "nbformat": 4,
 "nbformat_minor": 4
}
